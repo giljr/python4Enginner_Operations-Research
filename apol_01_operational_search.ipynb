{
  "nbformat": 4,
  "nbformat_minor": 0,
  "metadata": {
    "colab": {
      "provenance": [],
      "authorship_tag": "ABX9TyPAp1bJEdy/+ww8QsTBl+AR",
      "include_colab_link": true
    },
    "kernelspec": {
      "name": "python3",
      "display_name": "Python 3"
    },
    "language_info": {
      "name": "python"
    }
  },
  "cells": [
    {
      "cell_type": "markdown",
      "metadata": {
        "id": "view-in-github",
        "colab_type": "text"
      },
      "source": [
        "<a href=\"https://colab.research.google.com/github/giljr/python4Enginner_Operations-Research/blob/main/apol_01_operational_search.ipynb\" target=\"_parent\"><img src=\"https://colab.research.google.com/assets/colab-badge.svg\" alt=\"Open In Colab\"/></a>"
      ]
    },
    {
      "cell_type": "markdown",
      "source": [
        "## Linear programming \n",
        "Linear programming is an optimization technique to solve systems of linear constraints with a linear objective function. It is the most known method of Operations Research.\n",
        "\n",
        "\n",
        "let's exercise to understand Lp in python?"
      ],
      "metadata": {
        "id": "twwTkQVEhYgi"
      }
    },
    {
      "cell_type": "code",
      "source": [
        "!pip install pulp"
      ],
      "metadata": {
        "colab": {
          "base_uri": "https://localhost:8080/"
        },
        "id": "fG8SaYj28OpY",
        "outputId": "20461b4a-771e-46ab-8e9b-86deff27aca5"
      },
      "execution_count": 1,
      "outputs": [
        {
          "output_type": "stream",
          "name": "stdout",
          "text": [
            "Looking in indexes: https://pypi.org/simple, https://us-python.pkg.dev/colab-wheels/public/simple/\n",
            "Requirement already satisfied: pulp in /usr/local/lib/python3.9/dist-packages (2.7.0)\n"
          ]
        }
      ]
    },
    {
      "cell_type": "markdown",
      "source": [
        "## Question 1/10 - Operational Research\n",
        "Consider the following LP problem:\n",
        "\n",
        "\n",
        "```\n",
        "max Profit : 120a + 97b\n",
        "\n",
        "constrains :  10a + 15b <= 300\n",
        "              b <= 10\n",
        "              a>=0, b>=0\n",
        "```\n",
        "\n",
        "What is the optimal solution?"
      ],
      "metadata": {
        "id": "UjuD_3RPdawe"
      }
    },
    {
      "cell_type": "code",
      "source": [
        "from pulp import *\n",
        "\n",
        "prob=LpProblem('apol_q1', LpMaximize)\n",
        "a=LpVariable(\"a\", 0)\n",
        "b=LpVariable(\"b\", 0)\n",
        "prob += 120*a + 97*b\n",
        "prob += 10*a + 15*b <= 300\n",
        "prob += b <= 10\n",
        "prob += a>=0\n",
        "prob += b>=0\n",
        "prob.solve()\n",
        "for v in prob.variables():\n",
        "    print(v.name,\"=\", v.varValue)\n",
        "print(\"Profit Max q1 = \", value(prob.objective))"
      ],
      "metadata": {
        "colab": {
          "base_uri": "https://localhost:8080/"
        },
        "id": "PMKbya2ceW9s",
        "outputId": "e573f34d-2305-4128-b10c-d1332b4b31fa"
      },
      "execution_count": 2,
      "outputs": [
        {
          "output_type": "stream",
          "name": "stdout",
          "text": [
            "a = 30.0\n",
            "b = 0.0\n",
            "Profit Max q1 =  3600.0\n"
          ]
        }
      ]
    },
    {
      "cell_type": "markdown",
      "source": [
        "## Question 2/10 - Operational Research\n",
        "Solve the following PL problem:\n",
        "\n",
        "```\n",
        "max z : 70x1+40x2\n",
        "\n",
        "constrains :  33x1+14x2<=2200\n",
        "              4x1+17x2<=1344\n",
        "              x1>=0, x2>=0\n",
        "\n",
        "```\n",
        "\n",
        "Again, what is the optimal solution?\n",
        "\n"
      ],
      "metadata": {
        "id": "kZdth8F_ipnr"
      }
    },
    {
      "cell_type": "code",
      "source": [
        "# from pulp import *\n",
        "\n",
        "prob=LpProblem('apol_q2', LpMaximize)\n",
        "x1=LpVariable(\"x1\", 0)\n",
        "x2=LpVariable(\"x2\", 0)\n",
        "prob += 70*x1+40*x2\n",
        "prob += 33*x1+14*x2<=2200\n",
        "prob += 4*x1+17*x2<=1344\n",
        "prob += x1>=0\n",
        "prob += x2>=0\n",
        "prob.solve()\n",
        "for v in prob.variables():\n",
        "    print(v.name,\"=\", v.varValue)\n",
        "print(\"z = \", value(prob.objective))"
      ],
      "metadata": {
        "colab": {
          "base_uri": "https://localhost:8080/"
        },
        "id": "afOjsMaZfi1y",
        "outputId": "3202e626-2025-4d39-e919-2f733fc6d8a8"
      },
      "execution_count": 3,
      "outputs": [
        {
          "output_type": "stream",
          "name": "stdout",
          "text": [
            "x1 = 36.8\n",
            "x2 = 70.4\n",
            "z =  5392.0\n"
          ]
        }
      ]
    },
    {
      "cell_type": "markdown",
      "source": [
        "## Question 3/10 - Operational Research\n",
        "For the manufacture of a common frying pan, an industry uses 400 g of metal and for the manufacture of a wok frying pan, the same industry uses 600 g of metal.\n",
        "\n",
        "The daily output is a maximum of 500 common pans and 400 wok pans. \n",
        "\n",
        "The profit for each common frying pan is \\$ 12.00 and for each wok frying pan it is \\$ 19.00. \n",
        "\n",
        "Maximum metal availability is 300 kilograms of metal per day. .\n",
        "\n",
        "It is known that the industry wants to determine the daily production of frying pans so that the total profit is as high as possible.\n",
        "\n",
        "\n",
        "What is the ideal solution?"
      ],
      "metadata": {
        "id": "oDFCucfNkw8p"
      }
    },
    {
      "cell_type": "code",
      "source": [
        "# from pulp import *\n",
        "\n",
        "prob=LpProblem('apol_q3', LpMaximize)\n",
        "c=LpVariable(\"frig_comum\", 0)\n",
        "w=LpVariable(\"frig_work\", 0)\n",
        "prob += 12*c+19*w\n",
        "prob += 400*c+600*w<=300\n",
        "prob += 500*c+400*w<=900\n",
        "prob += c>=0\n",
        "prob += w>=0\n",
        "prob.solve()\n",
        "for v in prob.variables():\n",
        "    print(v.name,\"=\", v.varValue)\n",
        "print(\"Max Profit q3 = \", value(prob.objective))"
      ],
      "metadata": {
        "colab": {
          "base_uri": "https://localhost:8080/"
        },
        "id": "FGa2Yn7sAYbe",
        "outputId": "aadc41e5-2bd3-4392-c41b-0498cf7800e7"
      },
      "execution_count": 4,
      "outputs": [
        {
          "output_type": "stream",
          "name": "stdout",
          "text": [
            "frig_comum = 0.0\n",
            "frig_work = 0.5\n",
            "Max Profit q3 =  9.5\n"
          ]
        }
      ]
    },
    {
      "cell_type": "markdown",
      "source": [
        "## Question 4/10 - Operational Research\n",
        "A sporting goods company produces one-size-fits-all outerwear and pants for professional athletes. \n",
        "\n",
        "Each coat uses 2 meters of a special fabric and each pants uses 1.5 meters of this same fabric. \n",
        "\n",
        "The maximum daily production is 300 outerwear and 400 pants and the maximum amount of fabric available per day is 1000 meters. \n",
        "\n",
        "It is known that the profit for each coat is \\$ 123.00 and the profit for each pair of pants is /$ 98.00. \n",
        "\n",
        "Knowing that the objective of the industry is to obtain the highest possible profit. \n",
        "\n",
        "Solve:"
      ],
      "metadata": {
        "id": "AUse2s6HmP-T"
      }
    },
    {
      "cell_type": "code",
      "source": [
        "# from pulp import *\n",
        "\n",
        "prob=LpProblem('apol_q4', LpMaximize)\n",
        "x1=LpVariable(\"outerwear\", 0)\n",
        "x2=LpVariable(\"pants\", 0)\n",
        "prob += 123*x1+98*x2\n",
        "prob += 2*x1+1.5*x2<=1000\n",
        "prob += x1<=300\n",
        "prob += x2<=400\n",
        "prob.solve()\n",
        "for v in prob.variables():\n",
        "    print(v.name,\"=\", v.varValue)\n",
        "print(\"Max Profit q4 = \", value(prob.objective))"
      ],
      "metadata": {
        "colab": {
          "base_uri": "https://localhost:8080/"
        },
        "id": "f1Z0mQTODkR5",
        "outputId": "eee4a925-4592-4ad9-b599-b22101d24b3f"
      },
      "execution_count": 5,
      "outputs": [
        {
          "output_type": "stream",
          "name": "stdout",
          "text": [
            "outerwear = 200.0\n",
            "pants = 400.0\n",
            "Max Profit q4 =  63800.0\n"
          ]
        }
      ]
    },
    {
      "cell_type": "markdown",
      "source": [
        "## Question 6 -Operational Research\n",
        "\n",
        "A merchant owns a computer store and needs to buy some products. \n",
        "\n",
        "The following table presents important information regarding each product to be purchased.\n",
        "\n",
        "![image.png](data:image/png;base64,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)\n",
        "\n",
        "\n",
        "Knowing that the capital available for the acquisition of these products is R$ 25,000.00 and that the formulation of the problem corresponds to\n",
        "\n",
        "\n",
        "\n",
        "```\n",
        "max L : 200l+225t+10m\n",
        "constrains : 470l+190t+9m<=25000\n",
        "             l >= 10\n",
        "             t >= 203\n",
        "             t <= 35\n",
        "             l>=0, t>=0, m>=0\n",
        "\n",
        "where:\n",
        "            l = Number of laptops\n",
        "            t = Number of tablets\n",
        "            m = Number of mice\n",
        "\n",
        "```\n",
        "Determine how many units of each product should be purchased so that the profit from the subsequent sale of these products is as large as possible."
      ],
      "metadata": {
        "id": "5AnRLZiPnPTW"
      }
    },
    {
      "cell_type": "code",
      "source": [
        "# from pulp import *\n",
        "\n",
        "prob=LpProblem('apol_q6', LpMaximize)\n",
        "l=LpVariable(\"laptops\", 0)\n",
        "t=LpVariable(\"tablets\", 0)\n",
        "m=LpVariable(\"mouses\", 0)\n",
        "prob += 200*l+225*t+10*m\n",
        "prob += 470*l+190*t+9*m<=25000\n",
        "prob += l >= 10\n",
        "prob += t>= 20\n",
        "prob += t<=35\n",
        "prob.solve()\n",
        "for v in prob.variables():\n",
        "    print(v.name,\"=\", v.varValue)\n",
        "print(\"Max Profit q6 = \", value(prob.objective))"
      ],
      "metadata": {
        "colab": {
          "base_uri": "https://localhost:8080/"
        },
        "id": "Iqyrv7euNDmB",
        "outputId": "10119828-fa06-4a3b-c354-dcbf64958831"
      },
      "execution_count": 6,
      "outputs": [
        {
          "output_type": "stream",
          "name": "stdout",
          "text": [
            "laptops = 10.0\n",
            "mouses = 1516.6667\n",
            "tablets = 35.0\n",
            "Max Profit q6 =  25041.667\n"
          ]
        }
      ]
    },
    {
      "cell_type": "markdown",
      "source": [
        "## Question 8/10 - Operational Research\n",
        "\n",
        "A company that resells products in the logistics area wants to acquire a certain amount of forklifts and pallet trucks to complete its inventory.\n",
        "\n",
        "The following table presents the cost related to the acquisition of each of these products, the unit profit and the minimum and maximum quantities to be acquired.\n",
        "\n",
        "![image.png](data:image/png;base64,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)\n",
        "\n",
        "Knowing that the company has BRL 1,000,000.00 to invest in the purchase of forklifts and pallet trucks and that the objective is to determine the quantity “e” of forklifts and the quantity “p” of pallet trucks that provides the greatest profit “ P” possible, are constraints of this linear programming problem:\n",
        "\n",
        "\n",
        "```\n",
        "I. 60000e+90p<=1000000\n",
        "II. 30000e+33p<=1000000\n",
        "III. e>=10\n",
        "IV. and<=50\n",
        "V.p>=1000\n",
        "\n",
        "```\n",
        "\n",
        "What is the optimal solution?\n"
      ],
      "metadata": {
        "id": "YPXGT5HpoZuH"
      }
    },
    {
      "cell_type": "code",
      "source": [
        "# from pulp import *\n",
        "\n",
        "prob=LpProblem('apol_q8', LpMaximize)\n",
        "e=LpVariable(\"forklifts\", 0)\n",
        "p=LpVariable(\"palets\", 0)\n",
        "prob += 30000*e+33*p\n",
        "prob += 60000*e+90*p<=1000000\n",
        "prob += e>=10\n",
        "prob += e<=50\n",
        "prob += p>=1000\n",
        "prob.solve()\n",
        "for v in prob.variables():\n",
        "    print(v.name,\"=\", v.varValue)\n",
        "print(\"Max Profit q8 = \", value(prob.objective))"
      ],
      "metadata": {
        "colab": {
          "base_uri": "https://localhost:8080/"
        },
        "id": "cHr3yVJ5RuUa",
        "outputId": "bf4fc6a3-d0e4-4a03-c3e1-e877d005340c"
      },
      "execution_count": 7,
      "outputs": [
        {
          "output_type": "stream",
          "name": "stdout",
          "text": [
            "forklifts = 15.166667\n",
            "palets = 1000.0\n",
            "Max Profit q8 =  488000.01\n"
          ]
        }
      ]
    },
    {
      "cell_type": "code",
      "source": [
        "print(\"That's is all folks o/\")\n",
        "print(\"Thanks 4 reading!\")\n",
        "print(\"date: mar 2023\")"
      ],
      "metadata": {
        "colab": {
          "base_uri": "https://localhost:8080/"
        },
        "id": "YKrUYYTgVIHH",
        "outputId": "51023a72-eb94-401f-9ec4-89228da5bdfc"
      },
      "execution_count": 8,
      "outputs": [
        {
          "output_type": "stream",
          "name": "stdout",
          "text": [
            "That's is all folks o/\n",
            "Thanks 4 reading!\n",
            "date: mar 2023\n"
          ]
        }
      ]
    }
  ]
}
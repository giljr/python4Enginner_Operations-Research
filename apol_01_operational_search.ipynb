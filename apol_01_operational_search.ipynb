{
  "nbformat": 4,
  "nbformat_minor": 0,
  "metadata": {
    "colab": {
      "provenance": [],
      "authorship_tag": "ABX9TyPu4EjWgl3x2WzAhIDuujX/",
      "include_colab_link": true
    },
    "kernelspec": {
      "name": "python3",
      "display_name": "Python 3"
    },
    "language_info": {
      "name": "python"
    }
  },
  "cells": [
    {
      "cell_type": "markdown",
      "metadata": {
        "id": "view-in-github",
        "colab_type": "text"
      },
      "source": [
        "<a href=\"https://colab.research.google.com/github/giljr/python4Enginner_Operations-Research/blob/main/apol_01_operational_search.ipynb\" target=\"_parent\"><img src=\"https://colab.research.google.com/assets/colab-badge.svg\" alt=\"Open In Colab\"/></a>"
      ]
    },
    {
      "cell_type": "code",
      "source": [
        "!pip install pulp"
      ],
      "metadata": {
        "colab": {
          "base_uri": "https://localhost:8080/"
        },
        "id": "fG8SaYj28OpY",
        "outputId": "b60bd539-196c-45be-f403-5090f8771834"
      },
      "execution_count": 1,
      "outputs": [
        {
          "output_type": "stream",
          "name": "stdout",
          "text": [
            "Looking in indexes: https://pypi.org/simple, https://us-python.pkg.dev/colab-wheels/public/simple/\n",
            "Collecting pulp\n",
            "  Downloading PuLP-2.7.0-py3-none-any.whl (14.3 MB)\n",
            "\u001b[2K     \u001b[90m━━━━━━━━━━━━━━━━━━━━━━━━━━━━━━━━━━━━━━━━\u001b[0m \u001b[32m14.3/14.3 MB\u001b[0m \u001b[31m24.7 MB/s\u001b[0m eta \u001b[36m0:00:00\u001b[0m\n",
            "\u001b[?25hInstalling collected packages: pulp\n",
            "Successfully installed pulp-2.7.0\n"
          ]
        }
      ]
    },
    {
      "cell_type": "code",
      "execution_count": 2,
      "metadata": {
        "id": "7KDYTzdW6bdD",
        "colab": {
          "base_uri": "https://localhost:8080/"
        },
        "outputId": "1540a3ca-6738-4915-fcae-0247fcda4197"
      },
      "outputs": [
        {
          "output_type": "stream",
          "name": "stdout",
          "text": [
            "Product_A = 30.769231\n",
            "Product_B = 46.153846\n",
            "Max Profit =  375.3846155\n"
          ]
        }
      ],
      "source": [
        "from pulp import *\n",
        "prob=LpProblem('Example', LpMaximize)\n",
        "x1=LpVariable(\"Product A\", 0)\n",
        "x2=LpVariable(\"Product B\", 0)\n",
        "prob += 4.10*x1 + 5.40*x2\n",
        "prob += 0.45*x1+0.35*x2 <= 30\n",
        "prob += 20*x1+30*x2 <= 2000\n",
        "prob.solve()\n",
        "for v in prob.variables():\n",
        "    print(v.name,\"=\", v.varValue)\n",
        "print(\"Max Profit ex_a = \", value(prob.objective))"
      ]
    },
    {
      "cell_type": "code",
      "source": [
        "# from pulp import *\n",
        "prob=LpProblem('apol_q1', LpMaximize)\n",
        "a=LpVariable(\"a\", 0)\n",
        "b=LpVariable(\"b\", 0)\n",
        "prob += 120*a + 97*b\n",
        "prob += 10*a + 15*b <= 300\n",
        "prob += b <= 10\n",
        "prob += a>=0\n",
        "prob += b>=0\n",
        "prob.solve()\n",
        "for v in prob.variables():\n",
        "    print(v.name,\"=\", v.varValue)\n",
        "print(\"L Max= \", value(prob.objective))"
      ],
      "metadata": {
        "colab": {
          "base_uri": "https://localhost:8080/"
        },
        "id": "lErrhmzx9Ti3",
        "outputId": "17e35cf4-ca8f-4d05-af84-cd4874c6edf5"
      },
      "execution_count": 43,
      "outputs": [
        {
          "output_type": "stream",
          "name": "stdout",
          "text": [
            "a = 30.0\n",
            "b = 0.0\n",
            "L Max=  3600.0\n"
          ]
        }
      ]
    },
    {
      "cell_type": "code",
      "source": [
        "# from pulp import \n",
        "prob=LpProblem('apol_q2', LpMaximize)\n",
        "x1=LpVariable(\"x1\", 0)\n",
        "x2=LpVariable(\"x2\", 0)\n",
        "prob += 70*x1+40*x2\n",
        "prob += 33*x1+14*x2<=2200\n",
        "prob += 4*x1+17*x2<=1344\n",
        "prob += x1>=0\n",
        "prob += x2>=0\n",
        "prob.solve()\n",
        "for v in prob.variables():\n",
        "    print(v.name,\"=\", v.varValue)\n",
        "print(\"z = \", value(prob.objective))"
      ],
      "metadata": {
        "colab": {
          "base_uri": "https://localhost:8080/"
        },
        "id": "BrABi4eb_RVq",
        "outputId": "b0ffa3cb-c49c-40ff-944a-7858e5aae2bd"
      },
      "execution_count": 24,
      "outputs": [
        {
          "output_type": "stream",
          "name": "stdout",
          "text": [
            "x1 = 36.8\n",
            "x2 = 70.4\n",
            "z =  5392.0\n"
          ]
        }
      ]
    },
    {
      "cell_type": "code",
      "source": [
        "# from pulp import *\n",
        "prob=LpProblem('apol_q3', LpMaximize)\n",
        "c=LpVariable(\"frig_comum\", 0)\n",
        "w=LpVariable(\"frig_work\", 0)\n",
        "prob += 12*c+19*w\n",
        "prob += 400*c+600*w<=300\n",
        "# prob += 500*c+400*w<=900\n",
        "prob += c>=0\n",
        "prob += w>=0\n",
        "prob.solve()\n",
        "for v in prob.variables():\n",
        "    print(v.name,\"=\", v.varValue)\n",
        "print(\"Max Profit frig = \", value(prob.objective))"
      ],
      "metadata": {
        "colab": {
          "base_uri": "https://localhost:8080/"
        },
        "id": "FGa2Yn7sAYbe",
        "outputId": "c4ce0046-488b-4435-a137-2db9df534b3c"
      },
      "execution_count": 35,
      "outputs": [
        {
          "output_type": "stream",
          "name": "stdout",
          "text": [
            "frig_comum = 0.0\n",
            "frig_work = 0.5\n",
            "Max Profit  =  9.5\n"
          ]
        }
      ]
    },
    {
      "cell_type": "code",
      "source": [
        "# from pulp import *\n",
        "prob=LpProblem('apol_q4', LpMaximize)\n",
        "x1=LpVariable(\"agasalhos\", 0)\n",
        "x2=LpVariable(\"calca\", 0)\n",
        "prob += 123*x1+98*x2\n",
        "prob += 2*x1+1.5*x2<=1000\n",
        "prob += x1<=300\n",
        "prob += x2<=400\n",
        "prob.solve()\n",
        "for v in prob.variables():\n",
        "    print(v.name,\"=\", v.varValue)\n",
        "print(\"Max Profit sport industry = \", value(prob.objective))"
      ],
      "metadata": {
        "colab": {
          "base_uri": "https://localhost:8080/"
        },
        "id": "f1Z0mQTODkR5",
        "outputId": "494c2132-f538-4bbd-c7e1-f2521bf6be28"
      },
      "execution_count": 41,
      "outputs": [
        {
          "output_type": "stream",
          "name": "stdout",
          "text": [
            "agasalhos = 200.0\n",
            "calca = 400.0\n",
            "Max Profit sport industry =  63800.0\n"
          ]
        }
      ]
    },
    {
      "cell_type": "code",
      "source": [
        "# from pulp import *\n",
        "prob=LpProblem('apol_q5', LpMaximize)\n",
        "x1=LpVariable(\"Industry 1\", 0)\n",
        "x2=LpVariable(\"Industry 2\", 0)\n",
        "x3=LpVariable(\"Industry 3\", 0)\n",
        "prob += 4000*x1 + 5000*x2+3000*x3 <=10000\n",
        "prob += 5*x1+(7*x2)+(6*x3)\n",
        "\n",
        "prob.solve()\n",
        "for v in prob.variables():\n",
        "    print(v.name,\"=\", v.varValue)\n",
        "print(\"Max Profit ex_a = \", value(prob.objective))"
      ],
      "metadata": {
        "colab": {
          "base_uri": "https://localhost:8080/"
        },
        "id": "1qMbg4VCHKd9",
        "outputId": "8c9efcca-f27d-4067-bacb-97cb9b817b2b"
      },
      "execution_count": 52,
      "outputs": [
        {
          "output_type": "stream",
          "name": "stdout",
          "text": [
            "Industry_1 = 0.0\n",
            "Industry_2 = 0.0\n",
            "Industry_3 = 3.3333333\n",
            "Max Profit ex_a =  19.9999998\n"
          ]
        }
      ]
    },
    {
      "cell_type": "code",
      "source": [
        "from pulp import *\n",
        "prob=LpProblem('apol_q6', LpMaximize)\n",
        "l=LpVariable(\"laptops\", 0)\n",
        "t=LpVariable(\"tablets\", 0)\n",
        "m=LpVariable(\"mouses\", 0)\n",
        "prob += 200*l+225*t+10*m\n",
        "prob += 470*l+190*t+9*m<=25000\n",
        "prob += l >= 10\n",
        "prob += t>= 20\n",
        "prob += t<=35\n",
        "prob.solve()\n",
        "for v in prob.variables():\n",
        "    print(v.name,\"=\", v.varValue)\n",
        "print(\"Max Profit q6 = \", value(prob.objective))"
      ],
      "metadata": {
        "colab": {
          "base_uri": "https://localhost:8080/"
        },
        "id": "Iqyrv7euNDmB",
        "outputId": "9999684c-95e5-45b0-c273-215b8959cb44"
      },
      "execution_count": 2,
      "outputs": [
        {
          "output_type": "stream",
          "name": "stdout",
          "text": [
            "laptops = 10.0\n",
            "mouses = 1516.6667\n",
            "tablets = 35.0\n",
            "Max Profit q6 =  25041.667\n"
          ]
        }
      ]
    },
    {
      "cell_type": "code",
      "source": [
        "# from pulp import *\n",
        "prob=LpProblem('apol_q8', LpMaximize)\n",
        "e=LpVariable(\"empilhadeira\", 0)\n",
        "p=LpVariable(\"palets\", 0)\n",
        "prob += 30000*e+33*p\n",
        "prob += 60000*e+90*p<=1000000\n",
        "prob += e>=10\n",
        "prob += e<=50\n",
        "prob += p>=1000\n",
        "prob.solve()\n",
        "for v in prob.variables():\n",
        "    print(v.name,\"=\", v.varValue)\n",
        "print(\"Max Profit q8 = \", value(prob.objective))"
      ],
      "metadata": {
        "colab": {
          "base_uri": "https://localhost:8080/"
        },
        "id": "cHr3yVJ5RuUa",
        "outputId": "6deffa86-8dba-40df-b8ec-e9cc5213eb8d"
      },
      "execution_count": 3,
      "outputs": [
        {
          "output_type": "stream",
          "name": "stdout",
          "text": [
            "empilhadeira = 15.166667\n",
            "palets = 1000.0\n",
            "Max Profit q8 =  488000.01\n"
          ]
        }
      ]
    },
    {
      "cell_type": "code",
      "source": [],
      "metadata": {
        "id": "YKrUYYTgVIHH"
      },
      "execution_count": null,
      "outputs": []
    }
  ]
}